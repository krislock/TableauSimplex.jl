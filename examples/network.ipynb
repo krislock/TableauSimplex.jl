{
 "cells": [
  {
   "cell_type": "markdown",
   "metadata": {},
   "source": [
    "# TableauSimplex"
   ]
  },
  {
   "cell_type": "code",
   "execution_count": null,
   "metadata": {},
   "outputs": [],
   "source": [
    "#using Pkg; Pkg.add(\"https://github.com/krislock/TableauSimplex.jl.git\")"
   ]
  },
  {
   "cell_type": "code",
   "execution_count": null,
   "metadata": {},
   "outputs": [],
   "source": [
    "using TableauSimplex\n",
    "\n",
    "# Nodes/Vertices\n",
    "V = [1, 2, 3, 4, 5, 6]\n",
    "\n",
    "# Arcs/Edges\n",
    "E = [(1,2), (1,3), (1,5), (2,3), (2,4), (3,4), (3,5), (4,6), (5,6)]\n",
    "\n",
    "# Demands\n",
    "b = [-1, -3, 0, 0, 0, 4]\n",
    "\n",
    "# Costs\n",
    "c = [2, 3, 3, 2, 4, 1, 2, 3, 1]\n",
    "\n",
    "m, n = length(V), length(E)"
   ]
  },
  {
   "cell_type": "markdown",
   "metadata": {},
   "source": [
    "# Phase I"
   ]
  },
  {
   "cell_type": "code",
   "execution_count": null,
   "metadata": {},
   "outputs": [],
   "source": [
    "# Add artificial node m+1 with directed edges \n",
    "# from vertices with negative demands and to \n",
    "# vertices with positive demands\n",
    "\n",
    "E0 = copy(E)\n",
    "for i in V\n",
    "    if b[i] < 0\n",
    "        push!(E0, (i, m+1))\n",
    "    else\n",
    "        push!(E0, (m+1, i))\n",
    "    end\n",
    "end\n",
    "E0"
   ]
  },
  {
   "cell_type": "code",
   "execution_count": null,
   "metadata": {},
   "outputs": [],
   "source": [
    "# Create the incidence matrix A0\n",
    "\n",
    "A0 = zeros(eltype(b), m+1, length(E0))\n",
    "for (k, e) in enumerate(E0)\n",
    "    i, j = e\n",
    "    A0[i,k] = -1\n",
    "    A0[j,k] = 1\n",
    "end\n",
    "b0 = [b; 0]\n",
    "[A0 b0]"
   ]
  },
  {
   "cell_type": "code",
   "execution_count": null,
   "metadata": {},
   "outputs": [],
   "source": [
    "table = Rational{Int}[ zeros(1, n) ones(1, size(A0,2)-n) 0; A0[1:end-1,:] b0[1:end-1] ]\n",
    "basis = collect(n+1:n+m)\n",
    "varnames = [\"x$i$j\" for (i,j) in E]\n",
    "artificials = [\"a$i\" for i in V]\n",
    "T1 = Tableau(table, basis, [varnames; artificials])"
   ]
  },
  {
   "cell_type": "code",
   "execution_count": null,
   "metadata": {},
   "outputs": [],
   "source": [
    "clean!(T1)"
   ]
  },
  {
   "cell_type": "code",
   "execution_count": null,
   "metadata": {},
   "outputs": [],
   "source": [
    "simplex!(T1, verbose=true);"
   ]
  },
  {
   "cell_type": "code",
   "execution_count": null,
   "metadata": {},
   "outputs": [],
   "source": [
    "println(\"Basic feasible solution:\")\n",
    "optsoln = [E0[T1.basis] rhs(T1)]"
   ]
  },
  {
   "cell_type": "markdown",
   "metadata": {},
   "source": [
    "# Phase II"
   ]
  },
  {
   "cell_type": "code",
   "execution_count": null,
   "metadata": {},
   "outputs": [],
   "source": [
    "# Drop all artificial variables and use original edge costs\n",
    "inds = [i for i=1:m if T1.basis[i] <= n]\n",
    "table = [\n",
    "    c' 0\n",
    "    T1.table[inds.+1, 1:n] T1.table[inds.+1, end]\n",
    "]\n",
    "basis = T1.basis[inds]\n",
    "T2 = Tableau(table, basis, varnames)"
   ]
  },
  {
   "cell_type": "code",
   "execution_count": null,
   "metadata": {},
   "outputs": [],
   "source": [
    "clean!(T2)"
   ]
  },
  {
   "cell_type": "code",
   "execution_count": null,
   "metadata": {},
   "outputs": [],
   "source": [
    "simplex!(T2, verbose=true);"
   ]
  },
  {
   "cell_type": "code",
   "execution_count": null,
   "metadata": {},
   "outputs": [],
   "source": [
    "println(\"Optimal solution:\")\n",
    "optsoln = [E[T2.basis] rhs(T2)]"
   ]
  },
  {
   "cell_type": "code",
   "execution_count": null,
   "metadata": {},
   "outputs": [],
   "source": []
  }
 ],
 "metadata": {
  "kernelspec": {
   "display_name": "Julia 1.8.3",
   "language": "julia",
   "name": "julia-1.8"
  },
  "language_info": {
   "file_extension": ".jl",
   "mimetype": "application/julia",
   "name": "julia",
   "version": "1.8.3"
  },
  "vscode": {
   "interpreter": {
    "hash": "b0fa6594d8f4cbf19f97940f81e996739fb7646882a419484c72d19e05852a7e"
   }
  }
 },
 "nbformat": 4,
 "nbformat_minor": 4
}
